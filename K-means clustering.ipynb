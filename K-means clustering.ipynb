{
 "cells": [
  {
   "cell_type": "code",
   "execution_count": 3,
   "metadata": {},
   "outputs": [],
   "source": [
    "import numpy as np\n",
    "import matplotlib.pyplot as plt"
   ]
  },
  {
   "cell_type": "code",
   "execution_count": 16,
   "metadata": {},
   "outputs": [],
   "source": [
    "def choose_initial_cluster_centers(points, clusters):\n",
    "    us = np.zeros((clusters,784))         # centers of each cluster\n",
    "    indicies = np.zeros(clusters)\n",
    "\n",
    "    index = np.random.choice(points.shape[0], 1)[0]         # choose first point randomly\n",
    "    indicies[0] = index\n",
    "    us[0] =  points[index]\n",
    "\n",
    "    for i in range(1,clusters):\n",
    "        max_distance = 0\n",
    "        for j in range(points.shape[0]):    # choose the center with the biggest distancce form last center\n",
    "            if j not in indicies:           # check if the the point is already a center to cluster\n",
    "                point = np.array(points[j])\n",
    "                last_point = us[i-1]\n",
    "                distance = np.linalg.norm(point-last_point)     # Eucledian distance\n",
    "\n",
    "                if distance > max_distance:\n",
    "                    max_distance = distance\n",
    "                    index = j\n",
    "                    u = point\n",
    "        \n",
    "        \n",
    "        indicies[i] = index\n",
    "        us[i] = u\n",
    "\n",
    "    return us"
   ]
  },
  {
   "cell_type": "code",
   "execution_count": 25,
   "metadata": {},
   "outputs": [],
   "source": [
    "def compute_membership(centers, point, rnks):\n",
    "    min_distance = np.linalg.norm(point-centers[0])\n",
    "\n",
    "    index = 0\n",
    "    for i in range(1,centers.shape[0]):\n",
    "        \n",
    "        center = centers[i]\n",
    "        distance = np.linalg.norm(point-center)\n",
    "\n",
    "        if distance < min_distance and distance > 0:\n",
    "            min_distance = distance\n",
    "            index = i\n",
    "        elif distance == min_distance and distance > 0:      # if the distances are the same between two centers, choose the one with more members\n",
    "            if rnks[i] > rnks[index]:\n",
    "                index = i\n",
    "\n",
    "    return index, min_distance"
   ]
  },
  {
   "cell_type": "code",
   "execution_count": 30,
   "metadata": {},
   "outputs": [],
   "source": [
    "def kmeans(points, clusters):\n",
    "\n",
    "    old_centers = np.zeros((clusters,784))\n",
    "    centers = choose_initial_cluster_centers(points, clusters)\n",
    "    points_sum = np.zeros((10,784))\n",
    "    distances = np.zeros(clusters)  # sum of distances in each cluster from the points to the cluster centers\n",
    "\n",
    "    \n",
    "    for limit in range(1000):\n",
    "        \n",
    "        if (centers == old_centers).all():      # stop if the algorithm converges\n",
    "            break\n",
    "\n",
    "        print(\"Iteration Number : \")\n",
    "        print(limit)\n",
    "\n",
    "        points_sum = np.zeros((10,784))\n",
    "        rnks = np.zeros(clusters)       # used for counting number of members in each cluster\n",
    "        distances = np.zeros(clusters)  # sum of distances in each cluster from the points to the cluster centers\n",
    "        old_centers = centers\n",
    "\n",
    "        for i in range(points.shape[0]):\n",
    "            point = points[i]\n",
    "            rnk, distance = compute_membership(centers, point, rnks)    # returns the cluster number of the point and its distance from the mean of the cluster\n",
    "            rnks[rnk] += 1\n",
    "            distances[rnk] += distance\n",
    "            points_sum[rnk] += point\n",
    "        \n",
    "        for i in range(clusters): \n",
    "            centers[i] = points_sum[i] / rnks[i]         # Adjust the cluster centers\n",
    "\n",
    "    sum_distances = np.sum(distances)\n",
    "    \n",
    "    return centers, sum_distances, rnks"
   ]
  },
  {
   "cell_type": "code",
   "execution_count": 7,
   "metadata": {},
   "outputs": [
    {
     "name": "stdout",
     "output_type": "stream",
     "text": "(2400, 784)\n"
    }
   ],
   "source": [
    "images = []\n",
    "\n",
    "for i in range(2400):\n",
    "    img = plt.imread(\"Images/\" + str((i+1)) + \".jpg\")\n",
    "    pixels = []\n",
    "    for j in range(28):\n",
    "        for k in range(28):\n",
    "            pixels.append(img[j,k])\n",
    "    \n",
    "    images.append(pixels)\n",
    "    \n",
    "images = np.asarray(images)\n",
    "print(images.shape)"
   ]
  },
  {
   "cell_type": "code",
   "execution_count": 8,
   "metadata": {},
   "outputs": [
    {
     "name": "stdout",
     "output_type": "stream",
     "text": "(784, 2400)\n"
    }
   ],
   "source": [
    "imagesT = np.transpose(images)\n",
    "print(imagesT.shape)"
   ]
  },
  {
   "cell_type": "code",
   "execution_count": 9,
   "metadata": {},
   "outputs": [
    {
     "name": "stdout",
     "output_type": "stream",
     "text": "[0. 0. 0. ... 9. 9. 9.]\n"
    }
   ],
   "source": [
    "labels = np.genfromtxt('Images/Training Labels.txt')\n",
    "print(labels)"
   ]
  },
  {
   "cell_type": "code",
   "execution_count": 32,
   "metadata": {},
   "outputs": [
    {
     "name": "stdout",
     "output_type": "stream",
     "text": "Iteration Number : \n0\nIteration Number : \n0\nIteration Number : \n0\nIteration Number : \n0\nIteration Number : \n0\nIteration Number : \n0\nIteration Number : \n0\nIteration Number : \n0\nIteration Number : \n0\nIteration Number : \n0\nIteration Number : \n0\nIteration Number : \n0\nIteration Number : \n0\nIteration Number : \n0\nIteration Number : \n0\nIteration Number : \n0\nIteration Number : \n0\nIteration Number : \n0\nIteration Number : \n0\nIteration Number : \n0\nIteration Number : \n0\nIteration Number : \n0\nIteration Number : \n0\nIteration Number : \n0\nIteration Number : \n0\nIteration Number : \n0\nIteration Number : \n0\nIteration Number : \n0\nIteration Number : \n0\nIteration Number : \n0\n[[ 806.   19.  466.    6.  200.   59.  262.   52.  140.  390.]\n [ 198.    7.  197.   76.  379.  238.  131.   31. 1049.   94.]\n [1455.   67.  118.   20.  111.  103.  102.   41.  366.   17.]\n [ 444.   49. 1342.   37.   92.   15.  114.  128.  154.   25.]\n [ 466.    6.  194.   69.  322.  177.  117.   14.  977.   58.]\n [ 911.   19.  351.    6.  228.   54.  274.   52.  155.  350.]\n [1537.   48.  194.   88.   46.   86.   35.   25.  161.  180.]\n [ 499.    7.  160.   63.  280.  163.  132.   26.  986.   84.]\n [ 806.   89.  195.   43.   57.  376.  386.  288.  115.   45.]\n [   9.  192.   71.  356.  199.  162.   32.  951.  101.  327.]\n [ 344.    8.  233.   66.  334.  219.  148.   33.  925.   90.]\n [1319.   63.  112.   22.  108.   99.  111.   29.  527.   10.]\n [1610.  127.   96.   67.   31.   24.  140.  189.   74.   42.]\n [1118.   44.  289.   54.   12.   80.   73.   91.   20.  619.]\n [ 675.    8.  131.   69.  278.  177.  160.   33.  780.   89.]\n [1473.   42.  246.   83.   44.  106.   35.   31.  164.  176.]\n [1591.   52.   67.   73.    8.  185.   54.  129.  137.  104.]\n [ 797.   90.   87.   87.  141.   39.  720.    8.  356.   75.]\n [1484.   49.  240.   94.   43.   86.   46.   29.  141.  188.]\n [1142.   19.  260.    6.  159.   51.  169.   55.  138.  401.]\n [ 564.    8.  257.   65.  336.  201.  152.   33.  711.   73.]\n [ 373.    8.  260.   72.  274.  221.  134.   33.  959.   66.]\n [ 291.   42.   47.  463.  512.  388.  111.   28.  359.  159.]\n [ 616.    7.  254.   61.  233.  224.  147.   33.  731.   94.]\n [ 646.  118.    4.  195.   64.  265.  164.  104.   14.  826.]\n [1341.   22.  106.   93.  107.   39.  312.    4.  303.   73.]\n [ 499.    7.  160.   63.  280.  163.  132.   26.  986.   84.]\n [ 810.   18.  604.    7.  126.   56.  230.   31.  131.  387.]\n [ 857.   19.  418.    7.  207.   57.  165.   54.  131.  485.]\n [1014.   19.  245.    7.  220.   51.  253.   47.  149.  395.]]\n"
    }
   ],
   "source": [
    "centers_arr = np.zeros((30,10,784))\n",
    "distances_arr = np.zeros(30)\n",
    "rnks = np.zeros((30,10))\n",
    "\n",
    "for i in range(30):\n",
    "    centers_arr[i], distances_arr[i], rnks[i] = kmeans(images,10)\n",
    "    \n",
    "print(rnks)"
   ]
  },
  {
   "cell_type": "code",
   "execution_count": null,
   "metadata": {},
   "outputs": [],
   "source": []
  }
 ],
 "metadata": {
  "kernelspec": {
   "display_name": "Python 3",
   "language": "python",
   "name": "python3"
  },
  "language_info": {
   "codemirror_mode": {
    "name": "ipython",
    "version": 3
   },
   "file_extension": ".py",
   "mimetype": "text/x-python",
   "name": "python",
   "nbconvert_exporter": "python",
   "pygments_lexer": "ipython3",
   "version": "3.7.4"
  }
 },
 "nbformat": 4,
 "nbformat_minor": 2
}