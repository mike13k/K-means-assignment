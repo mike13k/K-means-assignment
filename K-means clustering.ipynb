{
 "cells": [
  {
   "cell_type": "code",
   "execution_count": 1,
   "metadata": {},
   "outputs": [],
   "source": [
    "import numpy as np\n",
    "import matplotlib.pyplot as plt"
   ]
  },
  {
   "cell_type": "code",
   "execution_count": 2,
   "metadata": {},
   "outputs": [],
   "source": [
    "def choose_initial_cluster_centers(points, clusters):\n",
    "    us = np.zeros((clusters,784))         # centers of each cluster\n",
    "    indicies = np.zeros(clusters)\n",
    "\n",
    "    index = np.copy(np.random.choice(points.shape[0], 1)[0])         # choose first point randomly\n",
    "    indicies[0] = np.copy(index)\n",
    "    us[0] =  np.copy(points[index])\n",
    "\n",
    "    for i in range(1,clusters):\n",
    "        max_distance = 0\n",
    "        for j in range(points.shape[0]):    # choose the center with the biggest distancce form last center\n",
    "            if j not in indicies:           # check if the the point is already a center to cluster\n",
    "                point = np.copy(points[j])\n",
    "                last_point = np.copy(us[i-1])\n",
    "                distance = np.linalg.norm(point-last_point)     # Eucledian distance\n",
    "\n",
    "                if distance > max_distance:\n",
    "                    max_distance = distance\n",
    "                    index = j\n",
    "                    u = np.copy(point)\n",
    "        \n",
    "        \n",
    "        indicies[i] = np.copy(index)\n",
    "        us[i] = np.copy(u)\n",
    "\n",
    "    return us"
   ]
  },
  {
   "cell_type": "code",
   "execution_count": 3,
   "metadata": {},
   "outputs": [],
   "source": [
    "def compute_membership(centers, point, rnks):\n",
    "    min_distance = np.linalg.norm(point-centers[0])\n",
    "\n",
    "    index = 0\n",
    "    for i in range(1,centers.shape[0]):\n",
    "        \n",
    "        center = np.copy(centers[i])\n",
    "        distance = np.linalg.norm(point-center)\n",
    "\n",
    "        if distance <= min_distance and distance > 0:\n",
    "            min_distance = distance\n",
    "            index = i\n",
    "        # elif distance == min_distance and distance > 0:      # if the distances are the same between two centers, choose the one with more members\n",
    "        #     if rnks[i] > rnks[index]:\n",
    "        #         index = i\n",
    "\n",
    "    return index, min_distance"
   ]
  },
  {
   "cell_type": "code",
   "execution_count": 10,
   "metadata": {},
   "outputs": [],
   "source": [
    "def kmeans(points, clusters, labels):\n",
    "\n",
    "    old_centers = np.zeros((clusters,784))\n",
    "    centers = np.copy(choose_initial_cluster_centers(points, clusters))\n",
    "    \n",
    "    for limit in range(200):\n",
    "        \n",
    "        if (np.array_equal(centers, old_centers)):      # stop if the algorithm converges\n",
    "            print(\"Iterations till convergence: \", limit)\n",
    "            break\n",
    "\n",
    "        # print(\"Iteration Number : \")\n",
    "        # print(limit)\n",
    "\n",
    "        points_sum = np.zeros((10,784))\n",
    "        rnks = np.zeros(clusters)       # used for counting number of members in each cluster\n",
    "        distances = np.zeros(clusters)  # sum of distances in each cluster from the points to the cluster centers\n",
    "        old_centers = np.copy(centers)\n",
    "        cluster_labels_count = np.zeros((10,10))\n",
    "\n",
    "        for i in range(points.shape[0]):\n",
    "            point = np.copy(points[i])\n",
    "            rnk, distance = compute_membership(centers, point, rnks)    # returns the cluster number of the point and its distance from the mean of the cluster\n",
    "            rnks[rnk] += 1\n",
    "            distances[rnk] += distance\n",
    "            points_sum[rnk] += point\n",
    "            cluster_labels_count[rnk][int(labels[i])] += 1\n",
    "        \n",
    "        for i in range(clusters):\n",
    "            if(rnks[i] != 0):\n",
    "                centers[i] = np.copy(points_sum[i] / rnks[i])         # Adjust the cluster centers\n",
    "\n",
    "    sum_distances = np.sum(distances)\n",
    "    \n",
    "    return centers, sum_distances, rnks, cluster_labels_count"
   ]
  },
  {
   "cell_type": "code",
   "execution_count": 5,
   "metadata": {},
   "outputs": [],
   "source": [
    "def np_thresholding(npArray, threshold):\n",
    "    to_zero = npArray < threshold\n",
    "    to_ones = npArray >= threshold\n",
    "\n",
    "    npArray[to_zero] = 0\n",
    "    npArray[to_ones] = 1"
   ]
  },
  {
   "cell_type": "code",
   "execution_count": 6,
   "metadata": {},
   "outputs": [
    {
     "name": "stdout",
     "output_type": "stream",
     "text": "(2400, 784)\n"
    }
   ],
   "source": [
    "images = []\n",
    "\n",
    "for i in range(2400):\n",
    "    img = plt.imread(\"Images/\" + str((i+1)) + \".jpg\")\n",
    "    pixels = []\n",
    "    for j in range(28):\n",
    "        for k in range(28):\n",
    "            pixels.append(img[j,k])\n",
    "    \n",
    "    images.append(pixels)\n",
    "    \n",
    "images = np.asarray(images)\n",
    "np_thresholding(images, 140)\n",
    "print(images.shape)"
   ]
  },
  {
   "cell_type": "code",
   "execution_count": 7,
   "metadata": {},
   "outputs": [
    {
     "name": "stdout",
     "output_type": "stream",
     "text": "(784, 2400)\n"
    }
   ],
   "source": [
    "imagesT = np.transpose(images)\n",
    "print(imagesT.shape)"
   ]
  },
  {
   "cell_type": "code",
   "execution_count": 8,
   "metadata": {},
   "outputs": [
    {
     "name": "stdout",
     "output_type": "stream",
     "text": "[0. 0. 0. ... 9. 9. 9.]\n"
    }
   ],
   "source": [
    "labels = np.genfromtxt('Images/Training Labels.txt')\n",
    "print(labels)"
   ]
  },
  {
   "cell_type": "code",
   "execution_count": 11,
   "metadata": {},
   "outputs": [
    {
     "name": "stdout",
     "output_type": "stream",
     "text": "Iteration number:  0\nIteration number:  1\nIteration number:  2\n"
    }
   ],
   "source": [
    "centers_arr = np.zeros((30,10,784))\n",
    "distances_arr = np.zeros(30)\n",
    "rnks = np.zeros((30,10))\n",
    "cluster_labels_count = np.zeros((30,10,10))\n",
    "\n",
    "for i in range(30):\n",
    "    print(\"Iteration number: \", i)\n",
    "    centers_arr[i], distances_arr[i], rnks[i], cluster_labels_count[i] = kmeans(images, 10, labels)\n",
    "\n",
    "index_best = int(np.where(distances_arr == np.amin(distances_arr))[0])\n",
    "\n",
    "centers_arr_best = centers_arr[index_best]\n",
    "distances_arr_best = distances_arr[index_best]\n",
    "rnks_best = rnks[index_best]\n",
    "cluster_labels_count_best = cluster_labels_count[index_best]\n",
    "\n",
    "print(\"Best iteration: \", index_best)\n",
    "print(cluster_labels_count_best)"
   ]
  },
  {
   "cell_type": "code",
   "execution_count": 0,
   "metadata": {},
   "outputs": [],
   "source": [
    "cluster_labels_count_plot = np.copy(cluster_labels_count_best)\n",
    "\n",
    "x = np.arange(10)\n",
    "y = np.zeros(10)\n",
    "\n",
    "for i in range(10):\n",
    "    y[i] = np.amax(cluster_labels_count_plot[0:, i:(i+1)])\n",
    "    # cluster_labels_count_plot[int(np.where(cluster_labels_count_plot == np.amax(cluster_labels_count_plot[0:, i : (i+1)]))[0][0])] *= 0\n",
    "\n",
    "print(y)\n",
    "\n",
    "# plt.figure()\n",
    "\n",
    "plt.bar(x, y)\n",
    "plt.title('K-means')\n",
    "plt.savefig('Counts.jpg')\n",
    "plt.show()"
   ]
  },
  {
   "cell_type": "code",
   "execution_count": null,
   "metadata": {},
   "outputs": [],
   "source": []
  }
 ],
 "metadata": {
  "kernelspec": {
   "display_name": "Python 3",
   "language": "python",
   "name": "python3"
  },
  "language_info": {
   "codemirror_mode": {
    "name": "ipython",
    "version": 3
   },
   "file_extension": ".py",
   "mimetype": "text/x-python",
   "name": "python",
   "nbconvert_exporter": "python",
   "pygments_lexer": "ipython3",
   "version": "3.7.4"
  }
 },
 "nbformat": 4,
 "nbformat_minor": 2
}