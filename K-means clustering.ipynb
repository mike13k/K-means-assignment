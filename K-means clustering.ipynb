{
 "cells": [
  {
   "cell_type": "code",
   "execution_count": 3,
   "metadata": {},
   "outputs": [
    {
     "name": "stderr",
     "output_type": "stream",
     "text": [
      "Matplotlib is building the font cache; this may take a moment.\n"
     ]
    }
   ],
   "source": [
    "import numpy as np\n",
    "import matplotlib.pyplot as plt"
   ]
  },
  {
   "cell_type": "code",
   "execution_count": 4,
   "metadata": {},
   "outputs": [],
   "source": [
    "def choose_initial_cluster_centers(points, clusters):\n",
    "    us = np.zeros((clusters,784))         # centers of each cluster\n",
    "    indicies = np.zeros(clusters)\n",
    "\n",
    "    index = np.copy(np.random.choice(points.shape[0], 1)[0])         # choose first point randomly\n",
    "    indicies[0] = np.copy(index)\n",
    "    us[0] =  np.copy(points[index])\n",
    "\n",
    "    for i in range(1,clusters):\n",
    "        max_distance = 0\n",
    "        for j in range(points.shape[0]):    # choose the center with the biggest distancce form last center\n",
    "            if j not in indicies:           # check if the the point is already a center to cluster\n",
    "                point = np.copy(points[j])\n",
    "                last_point = np.copy(us[i-1])\n",
    "                distance = np.linalg.norm(point-last_point)     # Eucledian distance\n",
    "\n",
    "                if distance > max_distance:\n",
    "                    max_distance = distance\n",
    "                    index = j\n",
    "                    u = np.copy(point)\n",
    "        \n",
    "        \n",
    "        indicies[i] = np.copy(index)\n",
    "        us[i] = np.copy(u)\n",
    "\n",
    "    return us"
   ]
  },
  {
   "cell_type": "code",
   "execution_count": 5,
   "metadata": {},
   "outputs": [],
   "source": [
    "def compute_membership(centers, point, rnks):\n",
    "    min_distance = np.linalg.norm(point-centers[0])\n",
    "\n",
    "    index = 0\n",
    "    for i in range(1,centers.shape[0]):\n",
    "        \n",
    "        center = np.copy(centers[i])\n",
    "        distance = np.linalg.norm(point-center)\n",
    "\n",
    "        if distance <= min_distance and distance > 0:\n",
    "            min_distance = distance\n",
    "            index = i\n",
    "        # elif distance == min_distance and distance > 0:      # if the distances are the same between two centers, choose the one with more members\n",
    "        #     if rnks[i] > rnks[index]:\n",
    "        #         index = i\n",
    "\n",
    "    return index, min_distance"
   ]
  },
  {
   "cell_type": "code",
   "execution_count": 6,
   "metadata": {},
   "outputs": [],
   "source": [
    "def kmeans(points, clusters, labels):\n",
    "\n",
    "    old_centers = np.zeros((clusters,784))\n",
    "    centers = np.copy(choose_initial_cluster_centers(points, clusters))\n",
    "    \n",
    "    for limit in range(200):\n",
    "        \n",
    "        if (np.array_equal(centers, old_centers)):      # stop if the algorithm converges\n",
    "            print(\"Iterations till convergence: \", limit)\n",
    "            break\n",
    "\n",
    "        # print(\"Iteration Number : \")\n",
    "        # print(limit)\n",
    "\n",
    "        points_sum = np.zeros((10,784))\n",
    "        rnks = np.zeros(clusters)       # used for counting number of members in each cluster\n",
    "        distances = np.zeros(clusters)  # sum of distances in each cluster from the points to the cluster centers\n",
    "        old_centers = np.copy(centers)\n",
    "        cluster_labels_count = np.zeros((10,10))\n",
    "\n",
    "        for i in range(points.shape[0]):\n",
    "            point = np.copy(points[i])\n",
    "            rnk, distance = compute_membership(centers, point, rnks)    # returns the cluster number of the point and its distance from the mean of the cluster\n",
    "            rnks[rnk] += 1\n",
    "            distances[rnk] += distance\n",
    "            points_sum[rnk] += point\n",
    "            cluster_labels_count[rnk][int(labels[i])] += 1\n",
    "        \n",
    "        for i in range(clusters):\n",
    "            if(rnks[i] != 0):\n",
    "                centers[i] = np.copy(points_sum[i] / rnks[i])         # Adjust the cluster centers\n",
    "\n",
    "    sum_distances = np.sum(distances)\n",
    "    \n",
    "    return centers, sum_distances, rnks, cluster_labels_count"
   ]
  },
  {
   "cell_type": "code",
   "execution_count": 7,
   "metadata": {},
   "outputs": [],
   "source": [
    "def np_thresholding(npArray, threshold):\n",
    "    to_zero = npArray < threshold\n",
    "    to_ones = npArray >= threshold\n",
    "\n",
    "    npArray[to_zero] = 0\n",
    "    npArray[to_ones] = 1"
   ]
  },
  {
   "cell_type": "code",
   "execution_count": 8,
   "metadata": {},
   "outputs": [
    {
     "name": "stdout",
     "output_type": "stream",
     "text": [
      "(2400, 784)\n"
     ]
    }
   ],
   "source": [
    "images = []\n",
    "\n",
    "for i in range(2400):\n",
    "    img = plt.imread(\"Images/\" + str((i+1)) + \".jpg\")\n",
    "    pixels = []\n",
    "    for j in range(28):\n",
    "        for k in range(28):\n",
    "            pixels.append(img[j,k])\n",
    "    \n",
    "    images.append(pixels)\n",
    "    \n",
    "images = np.asarray(images)\n",
    "np_thresholding(images, 140)\n",
    "print(images.shape)"
   ]
  },
  {
   "cell_type": "code",
   "execution_count": 9,
   "metadata": {},
   "outputs": [
    {
     "name": "stdout",
     "output_type": "stream",
     "text": [
      "(784, 2400)\n"
     ]
    }
   ],
   "source": [
    "imagesT = np.transpose(images)\n",
    "print(imagesT.shape)"
   ]
  },
  {
   "cell_type": "code",
   "execution_count": 10,
   "metadata": {},
   "outputs": [
    {
     "name": "stdout",
     "output_type": "stream",
     "text": [
      "[0. 0. 0. ... 9. 9. 9.]\n"
     ]
    }
   ],
   "source": [
    "labels = np.genfromtxt('Images/Training Labels.txt')\n",
    "print(labels)"
   ]
  },
  {
   "cell_type": "code",
   "execution_count": 11,
   "metadata": {},
   "outputs": [
    {
     "name": "stdout",
     "output_type": "stream",
     "text": [
      "Iteration number:  0\n",
      "Iterations till convergence:  34\n",
      "Iteration number:  1\n",
      "Iterations till convergence:  25\n",
      "Iteration number:  2\n",
      "Iterations till convergence:  25\n",
      "Iteration number:  3\n",
      "Iterations till convergence:  21\n",
      "Iteration number:  4\n",
      "Iterations till convergence:  45\n",
      "Iteration number:  5\n",
      "Iterations till convergence:  46\n",
      "Iteration number:  6\n",
      "Iterations till convergence:  15\n",
      "Iteration number:  7\n",
      "Iterations till convergence:  25\n",
      "Iteration number:  8\n",
      "Iterations till convergence:  34\n",
      "Iteration number:  9\n",
      "Iterations till convergence:  43\n",
      "Iteration number:  10\n",
      "Iterations till convergence:  26\n",
      "Iteration number:  11\n",
      "Iterations till convergence:  53\n",
      "Iteration number:  12\n",
      "Iterations till convergence:  23\n",
      "Iteration number:  13\n",
      "Iterations till convergence:  51\n",
      "Iteration number:  14\n",
      "Iterations till convergence:  21\n",
      "Iteration number:  15\n",
      "Iterations till convergence:  55\n",
      "Iteration number:  16\n",
      "Iterations till convergence:  49\n",
      "Iteration number:  17\n",
      "Iterations till convergence:  27\n",
      "Iteration number:  18\n",
      "Iterations till convergence:  50\n",
      "Iteration number:  19\n",
      "Iterations till convergence:  32\n",
      "Iteration number:  20\n",
      "Iterations till convergence:  27\n",
      "Iteration number:  21\n",
      "Iterations till convergence:  36\n",
      "Iteration number:  22\n",
      "Iterations till convergence:  45\n",
      "Iteration number:  23\n",
      "Iterations till convergence:  36\n",
      "Iteration number:  24\n",
      "Iterations till convergence:  27\n",
      "Iteration number:  25\n",
      "Iterations till convergence:  23\n",
      "Iteration number:  26\n",
      "Iterations till convergence:  20\n",
      "Iteration number:  27\n",
      "Iterations till convergence:  27\n",
      "Iteration number:  28\n",
      "Iterations till convergence:  35\n",
      "Iteration number:  29\n",
      "Iterations till convergence:  22\n",
      "Best iteration:  11\n",
      "[[  0. 136.  20.   1.   9.   0.   2.  12.   6.   2.]\n",
      " [  5.   0.  14.   0.   4.   6. 186.   1.   3.   1.]\n",
      " [  6. 102.  34.  30.  29.  79.  35.  35.  27.  35.]\n",
      " [  1.   1.   4.   4. 128.   9.   9.  44.   1.  86.]\n",
      " [ 27.   0.   5.  91.   0.  55.   3.   0.   3.   0.]\n",
      " [  7.   0. 138.   5.   5.   1.   2.   1.   3.   0.]\n",
      " [  1.   0.   4.  19.   0.  15.   0.   0. 137.   2.]\n",
      " [  0.   1.   5.   2.  65.   0.   0. 146.   3. 106.]\n",
      " [ 28.   0.  16.  87.   0.  72.   2.   1.  57.   6.]\n",
      " [165.   0.   0.   1.   0.   3.   1.   0.   0.   2.]]\n"
     ]
    }
   ],
   "source": [
    "centers_arr = np.zeros((30,10,784))\n",
    "distances_arr = np.zeros(30)\n",
    "rnks = np.zeros((30,10))\n",
    "cluster_labels_count = np.zeros((30,10,10))\n",
    "\n",
    "for i in range(30):\n",
    "    print(\"Iteration number: \", i)\n",
    "    centers_arr[i], distances_arr[i], rnks[i], cluster_labels_count[i] = kmeans(images, 10, labels)\n",
    "\n",
    "index_best = int(np.where(distances_arr == np.amin(distances_arr))[0])\n",
    "\n",
    "centers_arr_best = centers_arr[index_best]\n",
    "distances_arr_best = distances_arr[index_best]\n",
    "rnks_best = rnks[index_best]\n",
    "cluster_labels_count_best = cluster_labels_count[index_best]\n",
    "\n",
    "print(\"Best iteration: \", index_best)\n",
    "print(cluster_labels_count_best)"
   ]
  },
  {
   "cell_type": "code",
   "execution_count": 12,
   "metadata": {},
   "outputs": [
    {
     "name": "stdout",
     "output_type": "stream",
     "text": [
      "[165. 136. 138.  91. 128.  79. 186. 146. 137. 106.]\n"
     ]
    },
    {
     "data": {
      "image/png": "[encoded data removed]",
      "text/plain": [
       "<Figure size 432x288 with 1 Axes>"
      ]
     },
     "metadata": {
      "needs_background": "light"
     },
     "output_type": "display_data"
    }
   ],
   "source": [
    "cluster_labels_count_plot = np.copy(cluster_labels_count_best)\n",
    "\n",
    "x = np.arange(10)\n",
    "y = np.zeros(10)\n",
    "\n",
    "for i in range(10):\n",
    "    y[i] = np.amax(cluster_labels_count_plot[0:, i:(i+1)])\n",
    "    # cluster_labels_count_plot[int(np.where(cluster_labels_count_plot == np.amax(cluster_labels_count_plot[0:, i : (i+1)]))[0][0])] *= 0\n",
    "\n",
    "print(y)\n",
    "\n",
    "# plt.figure()\n",
    "\n",
    "plt.bar(x, y)\n",
    "plt.title('K-means')\n",
    "plt.savefig('Counts.jpg')\n",
    "plt.show();"
   ]
  },
  {
   "cell_type": "code",
   "execution_count": null,
   "metadata": {},
   "outputs": [],
   "source": []
  }
 ],
 "metadata": {
  "kernelspec": {
   "display_name": "Python 3",
   "language": "python",
   "name": "python3"
  },
  "language_info": {
   "codemirror_mode": {
    "name": "ipython",
    "version": 3
   },
   "file_extension": ".py",
   "mimetype": "text/x-python",
   "name": "python",
   "nbconvert_exporter": "python",
   "pygments_lexer": "ipython3",
   "version": "3.10.0"
  }
 },
 "nbformat": 4,
 "nbformat_minor": 2
}
