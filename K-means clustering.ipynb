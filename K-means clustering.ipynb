{
 "cells": [
  {
   "cell_type": "code",
   "execution_count": 36,
   "metadata": {},
   "outputs": [],
   "source": [
    "import numpy as np\n",
    "import matplotlib.pyplot as plt"
   ]
  },
  {
   "cell_type": "code",
   "execution_count": 37,
   "metadata": {},
   "outputs": [],
   "source": [
    "def choose_initial_cluster_centers(points, clusters):\n",
    "    us = np.array(clusters)         # centers of each cluster\n",
    "    indicies = np.array(clusters)\n",
    "\n",
    "    index = np.random.choice(points.shape[0], 1)[0]         # choose first point randomly\n",
    "    indicies = np.append(indicies, index)\n",
    "    us = np.append(us,u)\n",
    "\n",
    "    for i in range(1,clusters):\n",
    "        max_distance = 0\n",
    "        for j in range(points.shape[0]):    # choose the center with the biggest distancce form last center\n",
    "            if j not in indicies:           # check if the the point is already a center to cluster\n",
    "                point = points[j]\n",
    "                last_point = us[i-1]\n",
    "                distance = np.linalg.norm(point-last_point)     # Eucledian distance\n",
    "\n",
    "                if distance > max_distance:\n",
    "                    max_distance = distance\n",
    "                    index = j\n",
    "                    u = point\n",
    "\n",
    "\n",
    "        indicies = np.append(indicies, index)\n",
    "        us = np.append(us,u)\n",
    "\n",
    "    return us"
   ]
  },
  {
   "cell_type": "code",
   "execution_count": 38,
   "metadata": {},
   "outputs": [],
   "source": [
    "def compute_membership(centers, point, rnks):\n",
    "    min_distance = np.linalg.norm(point-center[0])\n",
    "    \n",
    "    for i in range(1,centers):\n",
    "        center = centers[i]\n",
    "        distance = np.linalg.norm(point-center)\n",
    "\n",
    "        if distance < min_distance:\n",
    "            min_distance = distance\n",
    "            index = i\n",
    "        elif distance == min_distance:      # if the distances are the same between two centers, choose the one with more members\n",
    "            if rnks[i] > rnks[index]:\n",
    "                index = i\n",
    "    \n",
    "    return index, min_distance"
   ]
  },
  {
   "cell_type": "code",
   "execution_count": 39,
   "metadata": {},
   "outputs": [],
   "source": [
    "def kmeans(points, clusters):\n",
    "\n",
    "    old_centers = np.zeros(clusters)\n",
    "    centers = choose_initial_cluster_centers(points, clusters)\n",
    "\n",
    "    for limit in range(1000):\n",
    "        if centers == old_centers:      # stop if the algorithm converges\n",
    "            break\n",
    "        \n",
    "        rnks = np.zeros(clusters)       # used for counting number of members in each cluster\n",
    "        distances = np.zeros(clusters)  # sum of distances in each cluster from the points to the cluster centers\n",
    "        old_centers = centers\n",
    "\n",
    "        for i in range(points.shape[0]):\n",
    "            point = points[i]\n",
    "            rnk, distance = compute_membership(centers, point, rnks)    # returns the cluster number of the point and its distance from the mean of the cluster\n",
    "            rnks[rnk] += 1\n",
    "            distances[rnk] += distance\n",
    "        \n",
    "        for i in range(clusters):\n",
    "            centers[i] = distances[i] / rnks[i]         # Adjust the cluster centers\n",
    "\n",
    "    return centers"
   ]
  },
  {
   "cell_type": "code",
   "execution_count": null,
   "metadata": {},
   "outputs": [],
   "source": [
    "def "
   ]
  },
  {
   "cell_type": "code",
   "execution_count": 40,
   "metadata": {},
   "outputs": [
    {
     "name": "stdout",
     "output_type": "stream",
     "text": "(2400, 784)\n"
    }
   ],
   "source": [
    "images = []\n",
    "\n",
    "for i in range(2400):\n",
    "    img = plt.imread(\"Images/\" + str((i+1)) + \".jpg\")\n",
    "    pixels = []\n",
    "    for j in range(28):\n",
    "        for k in range(28):\n",
    "            pixels.append(img[j,k])\n",
    "    \n",
    "    images.append(pixels)\n",
    "    \n",
    "images = np.asarray(images)\n",
    "print(images.shape)"
   ]
  },
  {
   "cell_type": "code",
   "execution_count": 41,
   "metadata": {},
   "outputs": [
    {
     "name": "stdout",
     "output_type": "stream",
     "text": "(784, 2400)\n"
    }
   ],
   "source": [
    "imagesT = np.transpose(images)\n",
    "print(imagesT.shape)"
   ]
  },
  {
   "cell_type": "code",
   "execution_count": 42,
   "metadata": {},
   "outputs": [
    {
     "name": "stdout",
     "output_type": "stream",
     "text": "[0. 0. 0. ... 9. 9. 9.]\n"
    }
   ],
   "source": [
    "labels = np.genfromtxt('Images/Training Labels.txt')\n",
    "print(labels)"
   ]
  },
  {
   "cell_type": "code",
   "execution_count": null,
   "metadata": {},
   "outputs": [],
   "source": []
  }
 ],
 "metadata": {
  "kernelspec": {
   "display_name": "Python 3",
   "language": "python",
   "name": "python3"
  },
  "language_info": {
   "codemirror_mode": {
    "name": "ipython",
    "version": 3
   },
   "file_extension": ".py",
   "mimetype": "text/x-python",
   "name": "python",
   "nbconvert_exporter": "python",
   "pygments_lexer": "ipython3",
   "version": "3.7.4"
  }
 },
 "nbformat": 4,
 "nbformat_minor": 2
}